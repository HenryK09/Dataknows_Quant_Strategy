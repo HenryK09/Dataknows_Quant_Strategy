{
 "cells": [
  {
   "cell_type": "code",
   "execution_count": 1,
   "id": "4a17b25f",
   "metadata": {},
   "outputs": [],
   "source": [
    "import pandas as pd\n",
    "import numpy as np\n",
    "import matplotlib.pyplot as plt"
   ]
  },
  {
   "cell_type": "code",
   "execution_count": null,
   "id": "44c72040",
   "metadata": {},
   "outputs": [],
   "source": [
    "df = pd.read_csv('price.csv', index_col=0)\n",
    "df.index = pd.to_datetime(df.index)\n",
    "\n",
    "df.columns = ['us10ybond', 'kospi200tr']\n",
    "indexes = df['kospi200tr'].dropna().index.tolist()\n",
    "\n",
    "all_dates = pd.date_range(df.index[0], df.index[-1])\n",
    "df = df.reindex(all_dates)\n",
    "df = df.ffill()\n",
    "df = df.reindex(indexes)"
   ]
  },
  {
   "cell_type": "code",
   "execution_count": null,
   "id": "e2cd5b46",
   "metadata": {},
   "outputs": [],
   "source": [
    "signal_sr = pd.read_csv('signal.csv', index_col=0)\n",
    "signal_sr.index = pd.to_datetime(signal_sr.index)\n",
    "signal_sr = signal_sr.T.iloc[0]\n",
    "signal_sr = signal_sr.fillna('').astype(str).str[:-1]\n",
    "signal_sr[signal_sr == ''] = np.nan\n",
    "signal_sr = signal_sr.astype(float)"
   ]
  },
  {
   "cell_type": "code",
   "execution_count": null,
   "id": "26805926",
   "metadata": {},
   "outputs": [],
   "source": [
    "weight_df = pd.DataFrame(columns=['us10ybond', 'kospi200tr'])\n",
    "portfolio_sr = pd.Series(index=['us10ybond', 'kospi200tr'], data=[0,1], name=df.index[0])\n",
    "weight_df = weight_df.append(portfolio_sr)"
   ]
  },
  {
   "cell_type": "code",
   "execution_count": null,
   "id": "8cbd3be4",
   "metadata": {},
   "outputs": [],
   "source": [
    "for date, value in signal_sr.items():\n",
    "    if value > 0.04:\n",
    "        temp_sr = pd.Series(index=['us10ybond', 'kospi200tr'], data=[1,0], name=date)\n",
    "    elif value < -0.04:\n",
    "        temp_sr = pd.Series(index=['us10ybond', 'kospi200tr'], data=[0,1], name=date)\n",
    "    else:\n",
    "        continue\n",
    "\n",
    "    if portfolio_sr.values[0] == temp_sr.values[0] and portfolio_sr.values[1] == temp_sr.values[1]:\n",
    "        continue\n",
    "\n",
    "    portfolio_sr = temp_sr.copy()\n",
    "    weight_df = weight_df.append(temp_sr)\n",
    "\n",
    "return_df = df.pct_change().fillna(0)\n",
    "portfolio_return_sr = pd.Series(index=return_df.index, dtype=float)\n",
    "\n",
    "switching_dates = weight_df.index.tolist()[:]\n",
    "weight_df = weight_df.reindex(df.index)\n",
    "weight_df = weight_df.ffill()"
   ]
  },
  {
   "cell_type": "code",
   "execution_count": null,
   "id": "9d74f6ce",
   "metadata": {},
   "outputs": [],
   "source": [
    "for x in df.index:\n",
    "    us10ybond = weight_df.loc[x, 'us10ybond'] * return_df.loc[x, 'us10ybond']\n",
    "    kospi200tr = weight_df.loc[x, 'kospi200tr'] * return_df.loc[x, 'kospi200tr']\n",
    "\n",
    "    portfolio_return_sr[x] = us10ybond + kospi200tr\n",
    "\n",
    "result_return_df = return_df.copy()\n",
    "df = pd.concat([result_return_df, portfolio_return_sr.rename('creditratio_switching')], axis=1)\n",
    "df += 1\n",
    "df.iloc[0] = 100\n",
    "df = df.cumprod()\n",
    "\n",
    "ax = df.plot()\n",
    "plt.show()"
   ]
  }
 ],
 "metadata": {
  "kernelspec": {
   "display_name": "Python 3",
   "language": "python",
   "name": "python3"
  },
  "language_info": {
   "codemirror_mode": {
    "name": "ipython",
    "version": 3
   },
   "file_extension": ".py",
   "mimetype": "text/x-python",
   "name": "python",
   "nbconvert_exporter": "python",
   "pygments_lexer": "ipython3",
   "version": "3.8.8"
  }
 },
 "nbformat": 4,
 "nbformat_minor": 5
}
