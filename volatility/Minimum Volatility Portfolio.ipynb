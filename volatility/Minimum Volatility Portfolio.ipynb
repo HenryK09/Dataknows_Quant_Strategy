{
 "cells": [
  {
   "cell_type": "markdown",
   "id": "3bd71652",
   "metadata": {},
   "source": [
    "## 최소위험 포트폴리오 만들기(2020년 8월 10일 ~ 2021년 9월 15일 ETF 데이터 이용)"
   ]
  },
  {
   "cell_type": "markdown",
   "id": "b9702bce",
   "metadata": {},
   "source": [
    "## 라이브러리 import"
   ]
  },
  {
   "cell_type": "code",
   "execution_count": 1,
   "id": "652f71fe",
   "metadata": {},
   "outputs": [],
   "source": [
    "import pandas as pd     # 행과 열을 가진 DATA를 이용할 수 있게 해주는 패키지\n",
    "import numpy as np     # 수학 연산을 위한 패키지 \n",
    "import matplotlib.pyplot as plt     #그래프를 그릴때 쓰는 패키지"
   ]
  },
  {
   "cell_type": "code",
   "execution_count": 56,
   "id": "6f189014",
   "metadata": {},
   "outputs": [],
   "source": [
    "def get_font_family():\n",
    "    import platform\n",
    "    system_name = platform.system()\n",
    "   \n",
    "    if system_name == \"Windows\":\n",
    "        font_family = \"Malgun Gothic\"\n",
    "   \n",
    "    return font_family"
   ]
  },
  {
   "cell_type": "code",
   "execution_count": 57,
   "id": "f34c3796",
   "metadata": {},
   "outputs": [],
   "source": [
    "# 시각화를 위한 폰트설정\n",
    "a = get_font_family()\n",
    "# 폰트설정\n",
    "import matplotlib.pyplot as plt \n",
    "plt.rc(\"font\", family = a)"
   ]
  },
  {
   "cell_type": "code",
   "execution_count": 54,
   "id": "1577b6fa",
   "metadata": {},
   "outputs": [],
   "source": [
    "import warnings\n",
    "warnings.filterwarnings('ignore')    # 경고 메시지 무시"
   ]
  },
  {
   "cell_type": "markdown",
   "id": "caaef3ac",
   "metadata": {},
   "source": [
    "## 데이터 불러오기"
   ]
  },
  {
   "cell_type": "code",
   "execution_count": 49,
   "id": "9b8b0f50",
   "metadata": {},
   "outputs": [
    {
     "data": {
      "text/html": [
       "<div>\n",
       "<style scoped>\n",
       "    .dataframe tbody tr th:only-of-type {\n",
       "        vertical-align: middle;\n",
       "    }\n",
       "\n",
       "    .dataframe tbody tr th {\n",
       "        vertical-align: top;\n",
       "    }\n",
       "\n",
       "    .dataframe thead th {\n",
       "        text-align: right;\n",
       "    }\n",
       "</style>\n",
       "<table border=\"1\" class=\"dataframe\">\n",
       "  <thead>\n",
       "    <tr style=\"text-align: right;\">\n",
       "      <th></th>\n",
       "      <th>S&amp;P500</th>\n",
       "      <th>골드선물</th>\n",
       "      <th>농산물</th>\n",
       "      <th>WTI원유선물</th>\n",
       "    </tr>\n",
       "    <tr>\n",
       "      <th>날짜</th>\n",
       "      <th></th>\n",
       "      <th></th>\n",
       "      <th></th>\n",
       "      <th></th>\n",
       "    </tr>\n",
       "  </thead>\n",
       "  <tbody>\n",
       "    <tr>\n",
       "      <th>2021년 09월 15일</th>\n",
       "      <td>13100</td>\n",
       "      <td>13025</td>\n",
       "      <td>6310</td>\n",
       "      <td>10780</td>\n",
       "    </tr>\n",
       "    <tr>\n",
       "      <th>2021년 09월 14일</th>\n",
       "      <td>13200</td>\n",
       "      <td>12955</td>\n",
       "      <td>6320</td>\n",
       "      <td>10800</td>\n",
       "    </tr>\n",
       "    <tr>\n",
       "      <th>2021년 09월 13일</th>\n",
       "      <td>13240</td>\n",
       "      <td>12935</td>\n",
       "      <td>6285</td>\n",
       "      <td>10700</td>\n",
       "    </tr>\n",
       "    <tr>\n",
       "      <th>2021년 09월 10일</th>\n",
       "      <td>13260</td>\n",
       "      <td>13010</td>\n",
       "      <td>6275</td>\n",
       "      <td>10435</td>\n",
       "    </tr>\n",
       "    <tr>\n",
       "      <th>2021년 09월 09일</th>\n",
       "      <td>13235</td>\n",
       "      <td>12925</td>\n",
       "      <td>6320</td>\n",
       "      <td>10555</td>\n",
       "    </tr>\n",
       "    <tr>\n",
       "      <th>...</th>\n",
       "      <td>...</td>\n",
       "      <td>...</td>\n",
       "      <td>...</td>\n",
       "      <td>...</td>\n",
       "    </tr>\n",
       "    <tr>\n",
       "      <th>2020년 08월 14일</th>\n",
       "      <td>10095</td>\n",
       "      <td>14375</td>\n",
       "      <td>4070</td>\n",
       "      <td>6680</td>\n",
       "    </tr>\n",
       "    <tr>\n",
       "      <th>2020년 08월 13일</th>\n",
       "      <td>10055</td>\n",
       "      <td>14245</td>\n",
       "      <td>4035</td>\n",
       "      <td>6690</td>\n",
       "    </tr>\n",
       "    <tr>\n",
       "      <th>2020년 08월 12일</th>\n",
       "      <td>10005</td>\n",
       "      <td>14005</td>\n",
       "      <td>3985</td>\n",
       "      <td>6625</td>\n",
       "    </tr>\n",
       "    <tr>\n",
       "      <th>2020년 08월 11일</th>\n",
       "      <td>10045</td>\n",
       "      <td>14715</td>\n",
       "      <td>3995</td>\n",
       "      <td>6640</td>\n",
       "    </tr>\n",
       "    <tr>\n",
       "      <th>2020년 08월 10일</th>\n",
       "      <td>10035</td>\n",
       "      <td>15020</td>\n",
       "      <td>3980</td>\n",
       "      <td>6595</td>\n",
       "    </tr>\n",
       "  </tbody>\n",
       "</table>\n",
       "<p>274 rows × 4 columns</p>\n",
       "</div>"
      ],
      "text/plain": [
       "               S&P500   골드선물   농산물  WTI원유선물\n",
       "날짜                                         \n",
       "2021년 09월 15일   13100  13025  6310    10780\n",
       "2021년 09월 14일   13200  12955  6320    10800\n",
       "2021년 09월 13일   13240  12935  6285    10700\n",
       "2021년 09월 10일   13260  13010  6275    10435\n",
       "2021년 09월 09일   13235  12925  6320    10555\n",
       "...               ...    ...   ...      ...\n",
       "2020년 08월 14일   10095  14375  4070     6680\n",
       "2020년 08월 13일   10055  14245  4035     6690\n",
       "2020년 08월 12일   10005  14005  3985     6625\n",
       "2020년 08월 11일   10045  14715  3995     6640\n",
       "2020년 08월 10일   10035  15020  3980     6595\n",
       "\n",
       "[274 rows x 4 columns]"
      ]
     },
     "execution_count": 49,
     "metadata": {},
     "output_type": "execute_result"
    }
   ],
   "source": [
    "df1 = pd.read_csv('C:/Users/qhgus/RichGo/ETF데이터.csv', index_col = '날짜', thousands = ',') #, index_col = '날짜'\n",
    "df1"
   ]
  },
  {
   "cell_type": "code",
   "execution_count": 50,
   "id": "2a4eb781",
   "metadata": {},
   "outputs": [
    {
     "data": {
      "text/html": [
       "<div>\n",
       "<style scoped>\n",
       "    .dataframe tbody tr th:only-of-type {\n",
       "        vertical-align: middle;\n",
       "    }\n",
       "\n",
       "    .dataframe tbody tr th {\n",
       "        vertical-align: top;\n",
       "    }\n",
       "\n",
       "    .dataframe thead th {\n",
       "        text-align: right;\n",
       "    }\n",
       "</style>\n",
       "<table border=\"1\" class=\"dataframe\">\n",
       "  <thead>\n",
       "    <tr style=\"text-align: right;\">\n",
       "      <th></th>\n",
       "      <th>미국채10년</th>\n",
       "    </tr>\n",
       "    <tr>\n",
       "      <th>날짜</th>\n",
       "      <th></th>\n",
       "    </tr>\n",
       "  </thead>\n",
       "  <tbody>\n",
       "    <tr>\n",
       "      <th>2021년 09월 15일</th>\n",
       "      <td>12155</td>\n",
       "    </tr>\n",
       "    <tr>\n",
       "      <th>2021년 09월 14일</th>\n",
       "      <td>12120</td>\n",
       "    </tr>\n",
       "    <tr>\n",
       "      <th>2021년 09월 13일</th>\n",
       "      <td>12165</td>\n",
       "    </tr>\n",
       "    <tr>\n",
       "      <th>2021년 09월 10일</th>\n",
       "      <td>12120</td>\n",
       "    </tr>\n",
       "    <tr>\n",
       "      <th>2021년 09월 09일</th>\n",
       "      <td>12105</td>\n",
       "    </tr>\n",
       "    <tr>\n",
       "      <th>...</th>\n",
       "      <td>...</td>\n",
       "    </tr>\n",
       "    <tr>\n",
       "      <th>2020년 08월 14일</th>\n",
       "      <td>12565</td>\n",
       "    </tr>\n",
       "    <tr>\n",
       "      <th>2020년 08월 13일</th>\n",
       "      <td>12575</td>\n",
       "    </tr>\n",
       "    <tr>\n",
       "      <th>2020년 08월 12일</th>\n",
       "      <td>12630</td>\n",
       "    </tr>\n",
       "    <tr>\n",
       "      <th>2020년 08월 11일</th>\n",
       "      <td>12670</td>\n",
       "    </tr>\n",
       "    <tr>\n",
       "      <th>2020년 08월 10일</th>\n",
       "      <td>12705</td>\n",
       "    </tr>\n",
       "  </tbody>\n",
       "</table>\n",
       "<p>276 rows × 1 columns</p>\n",
       "</div>"
      ],
      "text/plain": [
       "               미국채10년\n",
       "날짜                   \n",
       "2021년 09월 15일   12155\n",
       "2021년 09월 14일   12120\n",
       "2021년 09월 13일   12165\n",
       "2021년 09월 10일   12120\n",
       "2021년 09월 09일   12105\n",
       "...               ...\n",
       "2020년 08월 14일   12565\n",
       "2020년 08월 13일   12575\n",
       "2020년 08월 12일   12630\n",
       "2020년 08월 11일   12670\n",
       "2020년 08월 10일   12705\n",
       "\n",
       "[276 rows x 1 columns]"
      ]
     },
     "execution_count": 50,
     "metadata": {},
     "output_type": "execute_result"
    }
   ],
   "source": [
    "df2 = pd.read_csv('C:/Users/qhgus/RichGo/미국채10년.csv', index_col = '날짜', thousands = ',') #, index_col = '날짜'\n",
    "df2"
   ]
  },
  {
   "cell_type": "markdown",
   "id": "0f251cb1",
   "metadata": {},
   "source": [
    "## 데이터 합치기"
   ]
  },
  {
   "cell_type": "code",
   "execution_count": 60,
   "id": "5ab16038",
   "metadata": {
    "scrolled": true
   },
   "outputs": [
    {
     "data": {
      "text/html": [
       "<div>\n",
       "<style scoped>\n",
       "    .dataframe tbody tr th:only-of-type {\n",
       "        vertical-align: middle;\n",
       "    }\n",
       "\n",
       "    .dataframe tbody tr th {\n",
       "        vertical-align: top;\n",
       "    }\n",
       "\n",
       "    .dataframe thead th {\n",
       "        text-align: right;\n",
       "    }\n",
       "</style>\n",
       "<table border=\"1\" class=\"dataframe\">\n",
       "  <thead>\n",
       "    <tr style=\"text-align: right;\">\n",
       "      <th></th>\n",
       "      <th>S&amp;P500</th>\n",
       "      <th>골드선물</th>\n",
       "      <th>농산물</th>\n",
       "      <th>WTI원유선물</th>\n",
       "      <th>미국채10년</th>\n",
       "    </tr>\n",
       "    <tr>\n",
       "      <th>날짜</th>\n",
       "      <th></th>\n",
       "      <th></th>\n",
       "      <th></th>\n",
       "      <th></th>\n",
       "      <th></th>\n",
       "    </tr>\n",
       "  </thead>\n",
       "  <tbody>\n",
       "    <tr>\n",
       "      <th>2020년 08월 10일</th>\n",
       "      <td>10035</td>\n",
       "      <td>15020</td>\n",
       "      <td>3980</td>\n",
       "      <td>6595</td>\n",
       "      <td>12705</td>\n",
       "    </tr>\n",
       "    <tr>\n",
       "      <th>2020년 08월 11일</th>\n",
       "      <td>10045</td>\n",
       "      <td>14715</td>\n",
       "      <td>3995</td>\n",
       "      <td>6640</td>\n",
       "      <td>12670</td>\n",
       "    </tr>\n",
       "    <tr>\n",
       "      <th>2020년 08월 12일</th>\n",
       "      <td>10005</td>\n",
       "      <td>14005</td>\n",
       "      <td>3985</td>\n",
       "      <td>6625</td>\n",
       "      <td>12630</td>\n",
       "    </tr>\n",
       "    <tr>\n",
       "      <th>2020년 08월 13일</th>\n",
       "      <td>10055</td>\n",
       "      <td>14245</td>\n",
       "      <td>4035</td>\n",
       "      <td>6690</td>\n",
       "      <td>12575</td>\n",
       "    </tr>\n",
       "    <tr>\n",
       "      <th>2020년 08월 14일</th>\n",
       "      <td>10095</td>\n",
       "      <td>14375</td>\n",
       "      <td>4070</td>\n",
       "      <td>6680</td>\n",
       "      <td>12565</td>\n",
       "    </tr>\n",
       "    <tr>\n",
       "      <th>...</th>\n",
       "      <td>...</td>\n",
       "      <td>...</td>\n",
       "      <td>...</td>\n",
       "      <td>...</td>\n",
       "      <td>...</td>\n",
       "    </tr>\n",
       "    <tr>\n",
       "      <th>2021년 09월 09일</th>\n",
       "      <td>13235</td>\n",
       "      <td>12925</td>\n",
       "      <td>6320</td>\n",
       "      <td>10555</td>\n",
       "      <td>12105</td>\n",
       "    </tr>\n",
       "    <tr>\n",
       "      <th>2021년 09월 10일</th>\n",
       "      <td>13260</td>\n",
       "      <td>13010</td>\n",
       "      <td>6275</td>\n",
       "      <td>10435</td>\n",
       "      <td>12120</td>\n",
       "    </tr>\n",
       "    <tr>\n",
       "      <th>2021년 09월 13일</th>\n",
       "      <td>13240</td>\n",
       "      <td>12935</td>\n",
       "      <td>6285</td>\n",
       "      <td>10700</td>\n",
       "      <td>12165</td>\n",
       "    </tr>\n",
       "    <tr>\n",
       "      <th>2021년 09월 14일</th>\n",
       "      <td>13200</td>\n",
       "      <td>12955</td>\n",
       "      <td>6320</td>\n",
       "      <td>10800</td>\n",
       "      <td>12120</td>\n",
       "    </tr>\n",
       "    <tr>\n",
       "      <th>2021년 09월 15일</th>\n",
       "      <td>13100</td>\n",
       "      <td>13025</td>\n",
       "      <td>6310</td>\n",
       "      <td>10780</td>\n",
       "      <td>12155</td>\n",
       "    </tr>\n",
       "  </tbody>\n",
       "</table>\n",
       "<p>274 rows × 5 columns</p>\n",
       "</div>"
      ],
      "text/plain": [
       "               S&P500   골드선물   농산물  WTI원유선물  미국채10년\n",
       "날짜                                                 \n",
       "2020년 08월 10일   10035  15020  3980     6595   12705\n",
       "2020년 08월 11일   10045  14715  3995     6640   12670\n",
       "2020년 08월 12일   10005  14005  3985     6625   12630\n",
       "2020년 08월 13일   10055  14245  4035     6690   12575\n",
       "2020년 08월 14일   10095  14375  4070     6680   12565\n",
       "...               ...    ...   ...      ...     ...\n",
       "2021년 09월 09일   13235  12925  6320    10555   12105\n",
       "2021년 09월 10일   13260  13010  6275    10435   12120\n",
       "2021년 09월 13일   13240  12935  6285    10700   12165\n",
       "2021년 09월 14일   13200  12955  6320    10800   12120\n",
       "2021년 09월 15일   13100  13025  6310    10780   12155\n",
       "\n",
       "[274 rows x 5 columns]"
      ]
     },
     "execution_count": 60,
     "metadata": {},
     "output_type": "execute_result"
    }
   ],
   "source": [
    "df = pd.merge(df1, df2, left_on='날짜', right_on='날짜', how='inner')\n",
    "df.sort_values('날짜', inplace=True)\n",
    "df"
   ]
  },
  {
   "cell_type": "code",
   "execution_count": 61,
   "id": "a4bf0112",
   "metadata": {
    "scrolled": false
   },
   "outputs": [
    {
     "name": "stdout",
     "output_type": "stream",
     "text": [
      "<class 'pandas.core.frame.DataFrame'>\n",
      "Index: 274 entries, 2020년 08월 10일 to 2021년 09월 15일\n",
      "Data columns (total 5 columns):\n",
      " #   Column   Non-Null Count  Dtype\n",
      "---  ------   --------------  -----\n",
      " 0   S&P500   274 non-null    int64\n",
      " 1   골드선물     274 non-null    int64\n",
      " 2   농산물      274 non-null    int64\n",
      " 3   WTI원유선물  274 non-null    int64\n",
      " 4   미국채10년   274 non-null    int64\n",
      "dtypes: int64(5)\n",
      "memory usage: 12.8+ KB\n"
     ]
    }
   ],
   "source": [
    "df.info()"
   ]
  },
  {
   "cell_type": "markdown",
   "id": "f6591b36",
   "metadata": {},
   "source": [
    "## 수익률 그래프로 나타내기"
   ]
  },
  {
   "cell_type": "code",
   "execution_count": 62,
   "id": "2fd0743c",
   "metadata": {
    "scrolled": false
   },
   "outputs": [
    {
     "data": {
      "image/png": "[encoded data removed]",
      "text/plain": [
       "<Figure size 576x360 with 1 Axes>"
      ]
     },
     "metadata": {
      "needs_background": "light"
     },
     "output_type": "display_data"
    }
   ],
   "source": [
    "(df / df.iloc[0] * 100).plot(figsize=(8, 5), grid=True)     # 비율로 표시\n",
    "plt.show()"
   ]
  },
  {
   "cell_type": "markdown",
   "id": "4a655d0f",
   "metadata": {},
   "source": [
    "## 수익률 계산"
   ]
  },
  {
   "cell_type": "markdown",
   "id": "a3cb11da",
   "metadata": {},
   "source": [
    "### 수익률표 생성"
   ]
  },
  {
   "cell_type": "code",
   "execution_count": 63,
   "id": "0497b1a1",
   "metadata": {},
   "outputs": [
    {
     "data": {
      "text/html": [
       "<div>\n",
       "<style scoped>\n",
       "    .dataframe tbody tr th:only-of-type {\n",
       "        vertical-align: middle;\n",
       "    }\n",
       "\n",
       "    .dataframe tbody tr th {\n",
       "        vertical-align: top;\n",
       "    }\n",
       "\n",
       "    .dataframe thead th {\n",
       "        text-align: right;\n",
       "    }\n",
       "</style>\n",
       "<table border=\"1\" class=\"dataframe\">\n",
       "  <thead>\n",
       "    <tr style=\"text-align: right;\">\n",
       "      <th></th>\n",
       "      <th>S&amp;P500</th>\n",
       "      <th>골드선물</th>\n",
       "      <th>농산물</th>\n",
       "      <th>WTI원유선물</th>\n",
       "      <th>미국채10년</th>\n",
       "    </tr>\n",
       "    <tr>\n",
       "      <th>날짜</th>\n",
       "      <th></th>\n",
       "      <th></th>\n",
       "      <th></th>\n",
       "      <th></th>\n",
       "      <th></th>\n",
       "    </tr>\n",
       "  </thead>\n",
       "  <tbody>\n",
       "    <tr>\n",
       "      <th>2021년 09월 09일</th>\n",
       "      <td>-0.002641</td>\n",
       "      <td>-0.004246</td>\n",
       "      <td>-0.006309</td>\n",
       "      <td>0.009998</td>\n",
       "      <td>0.003724</td>\n",
       "    </tr>\n",
       "    <tr>\n",
       "      <th>2021년 09월 10일</th>\n",
       "      <td>0.001887</td>\n",
       "      <td>0.006555</td>\n",
       "      <td>-0.007146</td>\n",
       "      <td>-0.011434</td>\n",
       "      <td>0.001238</td>\n",
       "    </tr>\n",
       "    <tr>\n",
       "      <th>2021년 09월 13일</th>\n",
       "      <td>-0.001509</td>\n",
       "      <td>-0.005781</td>\n",
       "      <td>0.001592</td>\n",
       "      <td>0.025078</td>\n",
       "      <td>0.003706</td>\n",
       "    </tr>\n",
       "    <tr>\n",
       "      <th>2021년 09월 14일</th>\n",
       "      <td>-0.003026</td>\n",
       "      <td>0.001545</td>\n",
       "      <td>0.005553</td>\n",
       "      <td>0.009302</td>\n",
       "      <td>-0.003706</td>\n",
       "    </tr>\n",
       "    <tr>\n",
       "      <th>2021년 09월 15일</th>\n",
       "      <td>-0.007605</td>\n",
       "      <td>0.005389</td>\n",
       "      <td>-0.001584</td>\n",
       "      <td>-0.001854</td>\n",
       "      <td>0.002884</td>\n",
       "    </tr>\n",
       "  </tbody>\n",
       "</table>\n",
       "</div>"
      ],
      "text/plain": [
       "                 S&P500      골드선물       농산물   WTI원유선물    미국채10년\n",
       "날짜                                                             \n",
       "2021년 09월 09일 -0.002641 -0.004246 -0.006309  0.009998  0.003724\n",
       "2021년 09월 10일  0.001887  0.006555 -0.007146 -0.011434  0.001238\n",
       "2021년 09월 13일 -0.001509 -0.005781  0.001592  0.025078  0.003706\n",
       "2021년 09월 14일 -0.003026  0.001545  0.005553  0.009302 -0.003706\n",
       "2021년 09월 15일 -0.007605  0.005389 -0.001584 -0.001854  0.002884"
      ]
     },
     "execution_count": 63,
     "metadata": {},
     "output_type": "execute_result"
    }
   ],
   "source": [
    "rets = np.log(df/df.shift(1))     # 로그수익률로 표시\n",
    "rets.tail(5)"
   ]
  },
  {
   "cell_type": "markdown",
   "id": "e7ce4ba3",
   "metadata": {},
   "source": [
    "### 평균수익률 계산"
   ]
  },
  {
   "cell_type": "code",
   "execution_count": 64,
   "id": "ffac22db",
   "metadata": {},
   "outputs": [
    {
     "data": {
      "text/plain": [
       "S&P500     0.011716\n",
       "골드선물      -0.006264\n",
       "농산물        0.020257\n",
       "WTI원유선물    0.021599\n",
       "미국채10년    -0.001945\n",
       "dtype: float64"
      ]
     },
     "execution_count": 64,
     "metadata": {},
     "output_type": "execute_result"
    }
   ],
   "source": [
    "rets.mean()*12"
   ]
  },
  {
   "cell_type": "markdown",
   "id": "ad0c4c8e",
   "metadata": {},
   "source": [
    "### 동일비중 행렬(w) 만들기\n",
    "```자산의 투자비중을 지정하기 위함```"
   ]
  },
  {
   "cell_type": "code",
   "execution_count": 65,
   "id": "81595043",
   "metadata": {},
   "outputs": [],
   "source": [
    "weights = np.array([0.20, 0.20, 0.20, 0.20, 0.20])     # 자산비중 행렬만들기"
   ]
  },
  {
   "cell_type": "markdown",
   "id": "2d644918",
   "metadata": {},
   "source": [
    "### w 비중으로 투자한 포트폴리오 수익률 계산"
   ]
  },
  {
   "cell_type": "code",
   "execution_count": 67,
   "id": "8e561843",
   "metadata": {},
   "outputs": [
    {
     "data": {
      "text/plain": [
       "0.009072534653420254"
      ]
     },
     "execution_count": 67,
     "metadata": {},
     "output_type": "execute_result"
    }
   ],
   "source": [
    "crets = np.sum(rets.mean()*weights)*12\n",
    "crets"
   ]
  },
  {
   "cell_type": "markdown",
   "id": "bf672e0f",
   "metadata": {},
   "source": [
    "## 위험(분산) 계산"
   ]
  },
  {
   "cell_type": "markdown",
   "id": "9c605802",
   "metadata": {},
   "source": [
    "### 공분산 행렬 만들기"
   ]
  },
  {
   "cell_type": "code",
   "execution_count": 69,
   "id": "9ce33dec",
   "metadata": {},
   "outputs": [
    {
     "data": {
      "text/html": [
       "<div>\n",
       "<style scoped>\n",
       "    .dataframe tbody tr th:only-of-type {\n",
       "        vertical-align: middle;\n",
       "    }\n",
       "\n",
       "    .dataframe tbody tr th {\n",
       "        vertical-align: top;\n",
       "    }\n",
       "\n",
       "    .dataframe thead th {\n",
       "        text-align: right;\n",
       "    }\n",
       "</style>\n",
       "<table border=\"1\" class=\"dataframe\">\n",
       "  <thead>\n",
       "    <tr style=\"text-align: right;\">\n",
       "      <th></th>\n",
       "      <th>S&amp;P500</th>\n",
       "      <th>골드선물</th>\n",
       "      <th>농산물</th>\n",
       "      <th>WTI원유선물</th>\n",
       "      <th>미국채10년</th>\n",
       "    </tr>\n",
       "  </thead>\n",
       "  <tbody>\n",
       "    <tr>\n",
       "      <th>S&amp;P500</th>\n",
       "      <td>0.000857</td>\n",
       "      <td>0.000107</td>\n",
       "      <td>0.000038</td>\n",
       "      <td>0.000492</td>\n",
       "      <td>-0.000006</td>\n",
       "    </tr>\n",
       "    <tr>\n",
       "      <th>골드선물</th>\n",
       "      <td>0.000107</td>\n",
       "      <td>0.001236</td>\n",
       "      <td>0.000471</td>\n",
       "      <td>0.000189</td>\n",
       "      <td>-0.000096</td>\n",
       "    </tr>\n",
       "    <tr>\n",
       "      <th>농산물</th>\n",
       "      <td>0.000038</td>\n",
       "      <td>0.000471</td>\n",
       "      <td>0.002595</td>\n",
       "      <td>0.000743</td>\n",
       "      <td>-0.000121</td>\n",
       "    </tr>\n",
       "    <tr>\n",
       "      <th>WTI원유선물</th>\n",
       "      <td>0.000492</td>\n",
       "      <td>0.000189</td>\n",
       "      <td>0.000743</td>\n",
       "      <td>0.005324</td>\n",
       "      <td>-0.000378</td>\n",
       "    </tr>\n",
       "    <tr>\n",
       "      <th>미국채10년</th>\n",
       "      <td>-0.000006</td>\n",
       "      <td>-0.000096</td>\n",
       "      <td>-0.000121</td>\n",
       "      <td>-0.000378</td>\n",
       "      <td>0.000257</td>\n",
       "    </tr>\n",
       "  </tbody>\n",
       "</table>\n",
       "</div>"
      ],
      "text/plain": [
       "           S&P500      골드선물       농산물   WTI원유선물    미국채10년\n",
       "S&P500   0.000857  0.000107  0.000038  0.000492 -0.000006\n",
       "골드선물     0.000107  0.001236  0.000471  0.000189 -0.000096\n",
       "농산물      0.000038  0.000471  0.002595  0.000743 -0.000121\n",
       "WTI원유선물  0.000492  0.000189  0.000743  0.005324 -0.000378\n",
       "미국채10년  -0.000006 -0.000096 -0.000121 -0.000378  0.000257"
      ]
     },
     "execution_count": 69,
     "metadata": {},
     "output_type": "execute_result"
    }
   ],
   "source": [
    "covmat = rets.cov()*12\n",
    "covmat"
   ]
  },
  {
   "cell_type": "markdown",
   "id": "8cc3b3f4",
   "metadata": {},
   "source": [
    "### 포트폴리오 분산 구하기"
   ]
  },
  {
   "cell_type": "code",
   "execution_count": 72,
   "id": "ffdf7dfe",
   "metadata": {},
   "outputs": [
    {
     "data": {
      "text/plain": [
       "0.0005259327857152332"
      ]
     },
     "execution_count": 72,
     "metadata": {},
     "output_type": "execute_result"
    }
   ],
   "source": [
    "variance = weights.T @ covmat @ weights     # @가 행렬의 곱을 뜻하는 듯\n",
    "# weights를 가로 행렬로 바꾸기 위해 T 적용함\n",
    "variance"
   ]
  },
  {
   "cell_type": "markdown",
   "id": "10498b1c",
   "metadata": {},
   "source": [
    "> 참고링크\n",
    "https://steemit.com/dclick/@thrufore/day1-with-python-1539363882146"
   ]
  },
  {
   "cell_type": "markdown",
   "id": "7a3f76b5",
   "metadata": {},
   "source": [
    "## 위험과 수익의 관계\n",
    "``` 포트폴리오 비중 변경 시 수익률과 분산이 어떻게 변하는지 알아보기```"
   ]
  },
  {
   "cell_type": "markdown",
   "id": "174c996b",
   "metadata": {},
   "source": [
    "### 자료 쌓아나갈 장소 지정"
   ]
  },
  {
   "cell_type": "code",
   "execution_count": 73,
   "id": "06393e45",
   "metadata": {},
   "outputs": [],
   "source": [
    "prets = []     # 리스트 형태로 수익을 쌓을 장소\n",
    "pvols = []     # 리스트 형태로 위험(표준편차)을 쌓을 장소"
   ]
  },
  {
   "cell_type": "markdown",
   "id": "eb2e861a",
   "metadata": {},
   "source": [
    "### 지정한 장소에 3000개의 시뮬레이션 자료 쌓기"
   ]
  },
  {
   "cell_type": "code",
   "execution_count": 74,
   "id": "a37c5bfb",
   "metadata": {},
   "outputs": [],
   "source": [
    "for p in range (3000):     # 3000회 반복\n",
    "    weights = np.random.random(5)   # 랜덤한 5개의 숫자를 생성함(5개의 자산에 대응하는..)\n",
    "    weights /= np.sum(weights)     # 5개의 숫자의 합계가 1이 되도록 조정함(각 자산의 비중)\n",
    "    prets.append(np.sum(rets.mean() * weights) * 12)    # 계산된 포트폴리오 수익을 prets에 저장\n",
    "    covmat = rets.cov() * 12     # cov matrix 만들기\n",
    "    pvols.append(np.sqrt(weights.T @ covmat @ weights)) # 계산된 포트폴리오 위험을 pvols에 저장한다."
   ]
  },
  {
   "cell_type": "markdown",
   "id": "970a7422",
   "metadata": {},
   "source": [
    "### 저장된 자료의 형태를 계산하기 쉬운 형태로 바꾸기"
   ]
  },
  {
   "cell_type": "code",
   "execution_count": 75,
   "id": "e58baf8c",
   "metadata": {},
   "outputs": [],
   "source": [
    "prets = np.array(prets)\n",
    "pvols = np.array(pvols)"
   ]
  },
  {
   "cell_type": "markdown",
   "id": "a9a63823",
   "metadata": {},
   "source": [
    "### 위험과 수익의 관계를 그래프로 나타내기"
   ]
  },
  {
   "cell_type": "code",
   "execution_count": 76,
   "id": "2921b0aa",
   "metadata": {},
   "outputs": [
    {
     "data": {
      "image/png": "[encoded data removed]",
      "text/plain": [
       "<Figure size 432x288 with 2 Axes>"
      ]
     },
     "metadata": {
      "needs_background": "light"
     },
     "output_type": "display_data"
    }
   ],
   "source": [
    "plt.scatter(pvols, prets, c=prets/pvols, marker='o')\n",
    "plt.grid(True)\n",
    "plt.xlabel('expected volatility')\n",
    "plt.ylabel('expected return')\n",
    "plt.colorbar(label='Sharpe ratio')\n",
    "plt.show()"
   ]
  },
  {
   "cell_type": "markdown",
   "id": "bc768797",
   "metadata": {},
   "source": [
    "## 최소위험 포트폴리오(Minimum Volatility Portfolio)"
   ]
  },
  {
   "cell_type": "markdown",
   "id": "1344035d",
   "metadata": {},
   "source": [
    "### 라이브러리 호출"
   ]
  },
  {
   "cell_type": "code",
   "execution_count": 77,
   "id": "189677c4",
   "metadata": {},
   "outputs": [],
   "source": [
    "import scipy.optimize as sco"
   ]
  },
  {
   "cell_type": "markdown",
   "id": "b0ebbd52",
   "metadata": {},
   "source": [
    "### 최적화 대상 함수 만들기\n",
    "```위험 최소화```"
   ]
  },
  {
   "cell_type": "code",
   "execution_count": 78,
   "id": "ec6a5721",
   "metadata": {},
   "outputs": [],
   "source": [
    "def minvar(weights):\n",
    "    return np.sqrt(weights.T @ covmat @ weights)"
   ]
  },
  {
   "cell_type": "markdown",
   "id": "4467128b",
   "metadata": {},
   "source": [
    "### 최적화 위한 입력조건 설정\n",
    "- 추측값 : 최적화 추측값이 있으면 설정, 없으면 아무값이나 넣기"
   ]
  },
  {
   "cell_type": "code",
   "execution_count": 79,
   "id": "fd4ea539",
   "metadata": {},
   "outputs": [],
   "source": [
    "w = np.array([0.20, 0.20, 0.20, 0.20, 0.20])     # 추측치 : 아무값이나 넣기"
   ]
  },
  {
   "cell_type": "markdown",
   "id": "2acc2dce",
   "metadata": {},
   "source": [
    "- 최적화 방법 : SQP 선택 "
   ]
  },
  {
   "cell_type": "code",
   "execution_count": 80,
   "id": "be7863e4",
   "metadata": {},
   "outputs": [],
   "source": [
    "method='SLSQP'"
   ]
  },
  {
   "cell_type": "markdown",
   "id": "20757ab4",
   "metadata": {},
   "source": [
    "- 변수범위설정 : 투자 비중이므로 0~1 사이로 설정"
   ]
  },
  {
   "cell_type": "code",
   "execution_count": 81,
   "id": "920691f9",
   "metadata": {},
   "outputs": [],
   "source": [
    "bnds = ((0,1), (0,1), (0,1), (0,1), (0,1))"
   ]
  },
  {
   "cell_type": "markdown",
   "id": "a927cc35",
   "metadata": {},
   "source": [
    "- 제약조건 설정 : 비중의 합이 1이 되도록 설정"
   ]
  },
  {
   "cell_type": "code",
   "execution_count": 82,
   "id": "8e59ce0c",
   "metadata": {},
   "outputs": [],
   "source": [
    "cons = ({'type': 'eq', 'fun': lambda x:  np.sum(x) - 1})     # 합계가 1이 되도록.. eq는 같다를 의미"
   ]
  },
  {
   "cell_type": "markdown",
   "id": "25e5c465",
   "metadata": {},
   "source": [
    "### 최적화 코드"
   ]
  },
  {
   "cell_type": "code",
   "execution_count": 83,
   "id": "37928a1c",
   "metadata": {},
   "outputs": [],
   "source": [
    "def minvar(weights):\n",
    "    return np.sqrt(weights.T @ covmat @ weights)\n",
    "\n",
    "w = np.array([0.20, 0.20, 0.20, 0.20, 0.20]) \n",
    "cons = ({'type': 'eq', 'fun': lambda x:  np.sum(x) - 1})\n",
    "bnds = ((0,1), (0,1), (0,1), (0,1), (0,1))\n",
    "\n",
    "opt = sco.minimize(minvar, w, method='SLSQP', bounds=bnds, constraints=cons)"
   ]
  },
  {
   "cell_type": "markdown",
   "id": "21e6f198",
   "metadata": {},
   "source": [
    "### 결과값 출력"
   ]
  },
  {
   "cell_type": "code",
   "execution_count": 84,
   "id": "049a58d7",
   "metadata": {},
   "outputs": [
    {
     "data": {
      "text/plain": [
       "     fun: 0.01155549457271862\n",
       "     jac: array([0.01154553, 0.01161875, 0.01150236, 0.01139201, 0.01156114])\n",
       " message: 'Optimization terminated successfully'\n",
       "    nfev: 96\n",
       "     nit: 16\n",
       "    njev: 16\n",
       "  status: 0\n",
       " success: True\n",
       "       x: array([0.11304454, 0.12651088, 0.04306507, 0.05107266, 0.66630684])"
      ]
     },
     "execution_count": 84,
     "metadata": {},
     "output_type": "execute_result"
    }
   ],
   "source": [
    "opt"
   ]
  },
  {
   "cell_type": "markdown",
   "id": "bb57b937",
   "metadata": {},
   "source": [
    "> 최적화 결과 = x </p>\n",
    "- S&P500 : 11.30%\n",
    "- 골드선물 : 12.65%\n",
    "- 농산물 : 4.31%\n",
    "- WTI원유선물 : 5.11% \n",
    "- 미국채10년 : 66.63%"
   ]
  },
  {
   "cell_type": "markdown",
   "id": "8294e289",
   "metadata": {},
   "source": [
    "### 수익과 위험 측정"
   ]
  },
  {
   "cell_type": "code",
   "execution_count": 85,
   "id": "66f34267",
   "metadata": {},
   "outputs": [],
   "source": [
    "orets = np.sum(rets.mean() * opt['x']) * 12\n",
    "ovol = np.sqrt(opt['x'].T @ covmat @ opt['x'])"
   ]
  },
  {
   "cell_type": "markdown",
   "id": "d49889fc",
   "metadata": {},
   "source": [
    "### 최소위험 포트폴리오 그래프에 나타내기"
   ]
  },
  {
   "cell_type": "code",
   "execution_count": 86,
   "id": "e8043084",
   "metadata": {},
   "outputs": [
    {
     "data": {
      "image/png": "[encoded data removed]",
      "text/plain": [
       "<Figure size 432x288 with 2 Axes>"
      ]
     },
     "metadata": {
      "needs_background": "light"
     },
     "output_type": "display_data"
    }
   ],
   "source": [
    "plt.scatter(pvols, prets, c=prets/pvols, marker='o')\n",
    "plt.grid(True)\n",
    "plt.xlabel('expected volatility')\n",
    "plt.ylabel('expected return')\n",
    "plt.colorbar(label='Sharpe ratio')\n",
    "\n",
    "plt.scatter(ovol, orets, marker=\"*\", s=500, alpha=0.5)\n",
    "plt.show()"
   ]
  },
  {
   "cell_type": "markdown",
   "id": "ea630662",
   "metadata": {},
   "source": [
    "> 참조링크 https://steemit.com/dclick/@thrufore/day2-with-python-1539446432982"
   ]
  }
 ],
 "metadata": {
  "kernelspec": {
   "display_name": "Python 3",
   "language": "python",
   "name": "python3"
  },
  "language_info": {
   "codemirror_mode": {
    "name": "ipython",
    "version": 3
   },
   "file_extension": ".py",
   "mimetype": "text/x-python",
   "name": "python",
   "nbconvert_exporter": "python",
   "pygments_lexer": "ipython3",
   "version": "3.8.8"
  }
 },
 "nbformat": 4,
 "nbformat_minor": 5
}
